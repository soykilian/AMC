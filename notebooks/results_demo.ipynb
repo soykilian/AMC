{
 "cells": [
  {
   "cell_type": "code",
   "execution_count": 12,
   "outputs": [],
   "source": [
    "lstm_us = [0.7495833333333334, 0.92125\t,0.9845833333333334,0.9845833333333334 ,0.9970833333333333, 0.9991666666666666, 0.9995833333333334, 1, 1, 1, 1, 1, 1, 1, 1, 1, 1]\n",
    "snr = [-12, -10, -8, -6, -4, -2, 0, 2, 4, 6, 8, 10, 12, 14, 16, 18, 20]\n",
    "\n",
    "sabl_net = [ 0.34,0.45,0.62,0.76,0.88,0.94,0.95,0.96,0.98,0.98,0.98,0.98,0.98, 0.98, 0.98, 0.98, 0.98]\n"
   ],
   "metadata": {
    "collapsed": false,
    "pycharm": {
     "name": "#%%\n"
    }
   }
  },
  {
   "cell_type": "code",
   "execution_count": null,
   "outputs": [],
   "source": [
    "import matplotlib.pyplot as plt\n",
    "import numpy\n",
    "import json\n",
    "plt.rcParams['font.family'] = 'Times New Roman'\n",
    "plt.rcParams.update({'font.size': 18})"
   ],
   "metadata": {
    "collapsed": false,
    "pycharm": {
     "name": "#%%\n"
    }
   }
  },
  {
   "cell_type": "code",
   "execution_count": null,
   "outputs": [],
   "source": [
    "output_path = \"/mnt/c/Users/mavi/AMC/Results/\""
   ],
   "metadata": {
    "collapsed": false,
    "pycharm": {
     "name": "#%%\n"
    }
   }
  },
  {
   "cell_type": "code",
   "execution_count": null,
   "outputs": [],
   "source": [
    "sabl_net = [a*100 for a in sabl_net]\n",
    "lstm_us = [u*100 for u in lstm_us]"
   ],
   "metadata": {
    "collapsed": false,
    "pycharm": {
     "name": "#%%\n"
    }
   }
  },
  {
   "cell_type": "code",
   "execution_count": null,
   "outputs": [],
   "source": [
    "ticks = []\n",
    "a = numpy.arange(30, 102, 2)\n",
    "for i in a:\n",
    "    if i %10 == 0:\n",
    "        ticks.append(str(i))\n",
    "    else:\n",
    "        ticks.append(\"\")"
   ],
   "metadata": {
    "collapsed": false,
    "pycharm": {
     "name": "#%%\n"
    }
   }
  },
  {
   "cell_type": "code",
   "execution_count": null,
   "outputs": [],
   "source": [
    "figure = plt.figure()\n",
    "plt.rcParams['font.family'] = 'Times New Roman'\n",
    "plt.plot(snr, attention, linewidth = \"1.8\", marker='.')\n",
    "plt.plot(snr, lstm_us, linewidth=\"1.8\", marker=\".\")\n",
    "plt.plot(snr, sabl_net, linewidth = \"1.8\", marker='.')\n",
    "plt.yticks(a,ticks )\n",
    "plt.grid(color = \"grey\", linewidth = \"0.8\", linestyle = \"--\")\n",
    "plt.xlabel(\"SNR (dB)\")\n",
    "plt.ylabel(\"Accuracy (%)\")\n",
    "plt.legend([\"LSTM Framework (Time domain)\", \"SABLNet (Time Domain)\"])\n",
    "plt.show()\n",
    "plt.savefig(output_path + 'Results/8_signals/comparison.png')"
   ],
   "metadata": {
    "collapsed": false,
    "pycharm": {
     "name": "#%%\n"
    }
   }
  },
  {
   "cell_type": "markdown",
   "source": [
    "### Measurement of the sensitivity of the signals to have more than 90% of accuracy\n"
   ],
   "metadata": {
    "collapsed": false,
    "pycharm": {
     "name": "#%% md\n"
    }
   }
  },
  {
   "cell_type": "markdown",
   "source": [
    "## Compare with the number of layers of the network"
   ],
   "metadata": {
    "collapsed": false,
    "pycharm": {
     "name": "#%% md\n"
    }
   }
  },
  {
   "cell_type": "code",
   "execution_count": null,
   "outputs": [],
   "source": [
    "data= open('/Users/mariavictoriadacostarivas/Documents/GMR/AMC_transformers/Results/layers/1lstm.json')\n",
    "one_lstm = json.load(data)"
   ],
   "metadata": {
    "collapsed": false,
    "pycharm": {
     "name": "#%%\n"
    }
   }
  },
  {
   "cell_type": "code",
   "execution_count": null,
   "outputs": [],
   "source": [
    "data2= open('/Users/mariavictoriadacostarivas/Documents/GMR/AMC_transformers/Results/layers/2lstm.json')\n",
    "two_lstm = json.load(data2)\n"
   ],
   "metadata": {
    "collapsed": false,
    "pycharm": {
     "name": "#%%\n"
    }
   }
  },
  {
   "cell_type": "code",
   "execution_count": null,
   "outputs": [],
   "source": [
    "data3= open('/Users/mariavictoriadacostarivas/Documents/GMR/AMC_transformers/Results/layers/3lstm.json')\n",
    "three_lstm = json.load(data3)\n",
    "three_values = [three_lstm[str(s)]*100 for s in snr]\n"
   ],
   "metadata": {
    "collapsed": false,
    "pycharm": {
     "name": "#%%\n"
    }
   }
  },
  {
   "cell_type": "code",
   "execution_count": null,
   "outputs": [],
   "source": [
    "one_lstm\n",
    "one_values = [one_lstm[str(s)]*100 for s in snr]"
   ],
   "metadata": {
    "collapsed": false,
    "pycharm": {
     "name": "#%%\n"
    }
   }
  },
  {
   "cell_type": "code",
   "execution_count": null,
   "outputs": [],
   "source": [
    "two_lstm\n",
    "two_values = [two_lstm[str(s)]*100 for s in snr]\n"
   ],
   "metadata": {
    "collapsed": false,
    "pycharm": {
     "name": "#%%\n"
    }
   }
  },
  {
   "cell_type": "code",
   "execution_count": null,
   "outputs": [],
   "source": [
    "ticks = []\n",
    "a = numpy.arange(18, 102, 2)\n",
    "for i in a:\n",
    "    if i %10 == 0:\n",
    "        ticks.append(str(i))\n",
    "    else:\n",
    "        ticks.append(\"\")\n",
    "plt.plot(snr, one_values, marker='o')\n",
    "plt.plot(snr, three_values, marker='o')\n",
    "plt.plot(snr, two_values, marker = 'o')\n",
    "plt.grid(color = \"grey\", linewidth = \"0.8\", linestyle = \"--\")\n",
    "plt.legend([\"1LSTM\", \"2LSTM\", \"3LSTM\"])\n",
    "plt.yticks(a,ticks)\n",
    "plt.xticks(snr)\n",
    "plt.xlabel(\"SNR (dB)\")\n",
    "plt.ylabel(\"Accuracy (%)\")\n",
    "plt.savefig(output_path + 'Results/layers/comparison_structure2.png')\n",
    "#plt.show()"
   ],
   "metadata": {
    "collapsed": false,
    "pycharm": {
     "name": "#%%\n"
    }
   }
  },
  {
   "cell_type": "markdown",
   "source": [
    "##"
   ],
   "metadata": {
    "collapsed": false,
    "pycharm": {
     "name": "#%% md\n"
    }
   }
  },
  {
   "cell_type": "code",
   "execution_count": null,
   "outputs": [],
   "source": [
    "d = open('/Users/mariavictoriadacostarivas/Documents/GMR/AMC_transformers/Results/8_signals/lstm/Time-seq/signal_acc.json')\n",
    "lstm = json.load(d)\n"
   ],
   "metadata": {
    "collapsed": false,
    "pycharm": {
     "name": "#%%\n"
    }
   }
  },
  {
   "cell_type": "code",
   "execution_count": null,
   "outputs": [],
   "source": [
    "signals_8 = ['CW','LFM', 'BFSK', 'SIN', 'EXP', 'SFW', 'BPSK', 'BASK']\n",
    "sensitivity_sablnet = [20,-0.5, -4, -4, -5,-6, -7,-7]\n",
    "sensitivity_lstm = [-10, -10, -8, -8, -12, -10, -8, -10]"
   ],
   "metadata": {
    "collapsed": false,
    "pycharm": {
     "name": "#%%\n"
    }
   }
  },
  {
   "cell_type": "code",
   "execution_count": null,
   "outputs": [],
   "source": [
    "figure = plt.figure()\n",
    "ticks = []\n",
    "a = numpy.arange(60, 102, 2)\n",
    "for i in a:\n",
    "    if i %10 == 0:\n",
    "        ticks.append(str(i))\n",
    "    else:\n",
    "        ticks.append(\"\")\n",
    "for i in signals_8:\n",
    "    plt.plot(snr[:7], lstm[i][:7], marker='o')\n",
    "plt.grid(color = \"grey\", linewidth = \"0.8\", linestyle = \"--\")\n",
    "plt.legend(signals_8)\n",
    "plt.yticks(a,ticks)\n",
    "plt.xlabel(\"SNR (dB)\")\n",
    "plt.ylabel(\"Accuracy (%)\")\n",
    "#plt.savefig(output_path + 'Results/8_signals/lstm/signal_accuracy.png')\n",
    "plt.show()"
   ],
   "metadata": {
    "collapsed": false,
    "pycharm": {
     "name": "#%%\n"
    }
   }
  },
  {
   "cell_type": "markdown",
   "source": [
    "### Comapare performance when training with -12:20 and testing with -20:20 and training and testing with -20:20\n",
    "# (TIME DOMAIN)"
   ],
   "metadata": {
    "collapsed": false,
    "pycharm": {
     "name": "#%% md\n"
    }
   }
  },
  {
   "cell_type": "code",
   "execution_count": null,
   "outputs": [],
   "source": [
    "limited_range = {-20: 0.1475,\n",
    " -18: 0.19708333333333333,\n",
    " -16: 0.27208333333333334,\n",
    " -14: 0.47,\n",
    " -12: 0.7529166666666667,\n",
    " -10: 0.9245833333333333,\n",
    " -8: 0.9875,\n",
    " -6: 0.9975,\n",
    " -4: 0.9995833333333334,\n",
    " -2: 1.0,\n",
    " 0: 1.0,\n",
    " 2: 0.9995833333333334,\n",
    " 4: 1.0,\n",
    " 6: 1.0,\n",
    " 8: 1.0,\n",
    " 10: 1.0,\n",
    " 12: 1.0,\n",
    " 14: 1.0,\n",
    " 16: 0.9995833333333334,\n",
    " 18: 1.0,\n",
    " 20: 1.0}\n",
    "full_range = {-20: 0.16583333333333333,\n",
    " -18: 0.2075,\n",
    " -16: 0.30416666666666664,\n",
    " -14: 0.4795833333333333,\n",
    " -12: 0.7433333333333333,\n",
    " -10: 0.9054166666666666,\n",
    " -8: 0.9720833333333333,\n",
    " -6: 0.9975,\n",
    " -4: 0.9983333333333333,\n",
    " -2: 1.0,\n",
    " 0: 1.0,\n",
    " 2: 1.0,\n",
    " 4: 1.0,\n",
    " 6: 1.0,\n",
    " 8: 1.0,\n",
    " 10: 1.0,\n",
    " 12: 1.0,\n",
    " 14: 1.0,\n",
    " 16: 1.0,\n",
    " 18: 0.9995833333333334,\n",
    " 20: 1.0}\n",
    "snr_20 = [-20, -18, -16, -14, -12, -10, -8,-6,-4,-2,0,2,4,6,8,10,12,14,16,18,20]"
   ],
   "metadata": {
    "collapsed": false,
    "pycharm": {
     "name": "#%%\n"
    }
   }
  },
  {
   "cell_type": "code",
   "execution_count": null,
   "outputs": [],
   "source": [
    "sabl_net = [0.19, 0.2, 0.22, 0.26, 0.33,0.45,0.62,0.76,0.88,0.94,0.95,0.96,0.98,0.98,0.98,0.98,0.98, 0.98, 0.98, 0.98, 0.98]\n",
    "sabl_values = [s*100 for s in sabl_net]\n"
   ],
   "metadata": {
    "collapsed": false,
    "pycharm": {
     "name": "#%%\n"
    }
   }
  },
  {
   "cell_type": "code",
   "execution_count": null,
   "outputs": [],
   "source": [
    "values_testing = [limited_range[s]*100 for s in snr_20]\n",
    "values_training = [full_range[s]*100 for s in snr_20]\n"
   ],
   "metadata": {
    "collapsed": false,
    "pycharm": {
     "name": "#%%\n"
    }
   }
  },
  {
   "cell_type": "code",
   "execution_count": null,
   "outputs": [],
   "source": [
    "ticks = []\n",
    "a = numpy.arange(14, 102, 2)\n",
    "for i in a:\n",
    "    if i %10 == 0:\n",
    "        ticks.append(str(i))\n",
    "    else:\n",
    "        ticks.append(\"\")\n",
    "plt.xticks(numpy.arange(-20,22, 2))\n",
    "plt.yticks(a,ticks)\n",
    "plt.ylabel('Accuracy (%)')\n",
    "plt.xlabel('SNR (dB)')\n",
    "plt.grid(color = \"grey\", linewidth = \"0.8\", linestyle = \"--\")\n",
    "plt.plot(snr_20, values_testing, marker='o', color='#ff6900')\n",
    "plt.plot(snr_20, values_training, marker='o', color='#00D084')\n",
    "plt.plot(snr_20, sabl_values, marker='o', color='m')\n",
    "plt.legend([\"Train : (-12:2:20)\", \"Train : (-20:2:20)\", \"SABLNet\"])\n",
    "#plt.show()\n",
    "plt.savefig(output_path + 'Results/8_signals/20_snrs/time/type_of_data.png')\n"
   ],
   "metadata": {
    "collapsed": false,
    "pycharm": {
     "name": "#%%\n"
    }
   }
  },
  {
   "cell_type": "markdown",
   "source": [
    "# AUTOCORRELATION\n",
    "## Comapare performance when training with -12:20 and testing with -20:20 and training and testing with -20:20"
   ],
   "metadata": {
    "collapsed": false,
    "pycharm": {
     "name": "#%% md\n"
    }
   }
  },
  {
   "cell_type": "code",
   "execution_count": null,
   "outputs": [],
   "source": [
    "dict_train_20 = {-20: 0.20833333333333334,\n",
    " -18: 0.3104166666666667,\n",
    " -16: 0.4920833333333333,\n",
    " -14: 0.6879166666666666,\n",
    " -12: 0.8675,\n",
    " -10: 0.9516666666666667,\n",
    " -8: 0.9879166666666667,\n",
    " -6: 0.9975,\n",
    " -4: 0.99875,\n",
    " -2: 1.0,\n",
    " 0: 1.0,\n",
    " 2: 1.0,\n",
    " 4: 1.0,\n",
    " 6: 1.0,\n",
    " 8: 1.0,\n",
    " 10: 1.0,\n",
    " 12: 1.0,\n",
    " 14: 1.0,\n",
    " 16: 1.0,\n",
    " 18: 1.0,\n",
    " 20: 1.0}\n",
    "train_20 = [dict_train_20[s]*100 for s in snr_20]"
   ],
   "metadata": {
    "collapsed": false,
    "pycharm": {
     "name": "#%%\n"
    }
   }
  },
  {
   "cell_type": "code",
   "execution_count": null,
   "outputs": [],
   "source": [
    "f = open(output_path+'/8_signals/20_snrs/corr/acc_test20.json')\n",
    "dict_test_20 = json.load(f)\n",
    "test_20 = [dict_test_20[str(s)]*100 for s in snr_20]"
   ],
   "metadata": {
    "collapsed": false,
    "pycharm": {
     "name": "#%%\n"
    }
   }
  },
  {
   "cell_type": "code",
   "execution_count": null,
   "outputs": [],
   "source": [
    "sabl_net_corr = [61,66,72, 78, 88, 96, 99, 100, 100,100, 100, 100, 100, 100, 100, 100, 100 ,100,100,100,100]\n",
    "len(sabl_net_corr)"
   ],
   "metadata": {
    "collapsed": false,
    "pycharm": {
     "name": "#%%\n"
    }
   }
  },
  {
   "cell_type": "code",
   "execution_count": null,
   "outputs": [],
   "source": [
    "plt.rcParams.update({'font.size': 13})\n",
    "plt.figure(figsize=(9,6))\n",
    "ticks = []\n",
    "a = numpy.arange(14, 105, 2)\n",
    "for i in a:\n",
    "    if i %10 == 0:\n",
    "        ticks.append(str(i))\n",
    "    else:\n",
    "        ticks.append(\"\")\n",
    "plt.grid(color = \"grey\", linewidth = \"0.8\", linestyle = \"--\")\n",
    "plt.plot(snr_20, values_testing, marker='o', color='#ff6900')\n",
    "plt.plot(snr_20, values_training, marker='>', color='#00D084')\n",
    "plt.plot(snr_20, sabl_values, marker='s', color='m')\n",
    "plt.plot(snr_20, test_20, marker='d', color='#B71C1C')\n",
    "plt.plot(snr_20, train_20, marker='v', color ='#2196F3')\n",
    "plt.plot(snr_20, sabl_net_corr, marker='P', color='#673AB7')\n",
    "plt.xticks(numpy.arange(-20,22, 2))\n",
    "plt.yticks(a,ticks)\n",
    "plt.ylabel('Accuracy (%)')\n",
    "plt.xlabel('SNR (dB)')\n",
    "plt.legend([\"Time: Train SNR(-12:2:20)\", \"Time: Train SNR(-20:2:20)\", \"SABLNet Time\", \"Autocorrelation : Train SNR(-12:2:20)\", \"Autocorrelation: Train SNR(-20:2:20)\", \"SABLNet autocorrelation\"])\n",
    "#plt.savefig(output_path + 'Results/8_signals/20_snrs/type_of_data_both.png')\n",
    "plt.show()"
   ],
   "metadata": {
    "collapsed": false,
    "pycharm": {
     "name": "#%%\n"
    }
   }
  },
  {
   "cell_type": "code",
   "execution_count": null,
   "outputs": [],
   "source": [
    "f = open('/Users/mariavictoriadacostarivas/Documents/GMR/AMC_transformers/Results/8_signals/20_snrs/corr/signal_acc_test20.json')\n",
    "a = json.load(f)\n",
    "signals_8 = ['CW','LFM', 'BFSK', 'SIN', 'EXP', 'SFW', 'BPSK', 'BASK']\n"
   ],
   "metadata": {
    "collapsed": false,
    "pycharm": {
     "name": "#%%\n"
    }
   }
  },
  {
   "cell_type": "code",
   "execution_count": null,
   "outputs": [],
   "source": [
    "sensitivity_us_corr = []\n",
    "for k,val in a.items():\n",
    "    for i  in range(len(val)):\n",
    "        if val[i] >= 90:\n",
    "            sensitivity_us_corr.append(snr_20[i])\n",
    "            break\n",
    "        elif i == len(val) - 1:\n",
    "            sensitivity_us_corr.append(30)\n",
    "sensitivity_us_corr"
   ],
   "metadata": {
    "collapsed": false,
    "pycharm": {
     "name": "#%%\n"
    }
   }
  },
  {
   "cell_type": "code",
   "execution_count": null,
   "outputs": [],
   "source": [
    "sensitivity_sablnet_corr = [-16, -10, -10, -12,-8, -20, -16, -20]"
   ],
   "metadata": {
    "collapsed": false,
    "pycharm": {
     "name": "#%%\n"
    }
   }
  },
  {
   "cell_type": "code",
   "execution_count": null,
   "outputs": [],
   "source": [],
   "metadata": {
    "collapsed": false,
    "pycharm": {
     "name": "#%%\n"
    }
   }
  },
  {
   "cell_type": "markdown",
   "source": [
    "### Compare best time and best autocorrelation"
   ],
   "metadata": {
    "collapsed": false,
    "pycharm": {
     "name": "#%% md\n"
    }
   }
  },
  {
   "cell_type": "code",
   "execution_count": null,
   "outputs": [],
   "source": [
    "plt.plot(snr_20, values_training, marker='o', color='#00D084')\n",
    "plt.plot(snr_20, train_20, marker='o', color ='#f44336')\n",
    "plt.xticks(numpy.arange(-20,22, 2))\n",
    "plt.yticks(a,ticks)\n",
    "plt.ylabel('Accuracy (%)')\n",
    "plt.xlabel('SNR (dB)')\n",
    "plt.legend([\"Time domain\", \"Autocorrelation domain\"])\n",
    "plt.grid(color = \"grey\", linewidth = \"0.8\", linestyle = \"--\")\n",
    "plt.savefig(output_path + 'Results/8_signals/20_snrs/comparison_domains.png')\n",
    "#plt.show()"
   ],
   "metadata": {
    "collapsed": false,
    "pycharm": {
     "name": "#%%\n"
    }
   }
  },
  {
   "cell_type": "code",
   "execution_count": null,
   "outputs": [],
   "source": [
    "figure = plt.figure()\n",
    "plt.plot(signals_8, sensitivity_us_corr, marker='v', color ='#2196F3')\n",
    "plt.plot(signals_8, sensitivity_sablnet_corr, marker = 'P', color='#673AB7')\n",
    "plt.plot(signals_8, sensitivity_lstm, marker='>',color='#00D084' )\n",
    "plt.plot(signals_8, sensitivity_sablnet, marker='s', color = 'm')\n",
    "plt.yticks(numpy.arange(-20,20, 2))\n",
    "plt.xlabel('Modulation')\n",
    "plt.ylabel('SNR (dB)')\n",
    "plt.legend([\"Autocorrelation: LSTM Framework\",\"Autocorrelation: SABLNet\",\"Time: LSTM Framework\", \"Time: SABLNet\"])\n",
    "plt.grid(color = \"grey\", linewidth = \"0.8\", linestyle = \"--\")\n",
    "plt.savefig(output_path + 'Results/8_signals/20_snrs/sensitivity_global.png')\n",
    "#plt.show()"
   ],
   "metadata": {
    "collapsed": false,
    "pycharm": {
     "name": "#%%\n"
    }
   }
  },
  {
   "cell_type": "markdown",
   "source": [
    "# Plots for 23 signals"
   ],
   "metadata": {
    "collapsed": false,
    "pycharm": {
     "name": "#%% md\n"
    }
   }
  },
  {
   "cell_type": "code",
   "execution_count": null,
   "outputs": [],
   "source": [
    "f = open(output_path+'23_signals/23_acc.json')\n",
    "accuracy_23 = json.load(f)\n",
    "signals_23 = ['LFM','2FSK','4FSK','8FSK', 'Costas','2PSK','4PSK','8PSK','Barker','Huffman','Frank','P1','P2','P3','P4','Px','Zadoff\\n-Chu','T1','T2','T3','T4','NM','Noise']\n",
    "values_23 = [accuracy_23[str(s)]*100 for s in snr]"
   ],
   "metadata": {
    "collapsed": false,
    "pycharm": {
     "name": "#%%\n"
    }
   }
  },
  {
   "cell_type": "code",
   "execution_count": null,
   "outputs": [],
   "source": [
    "snr = [-12, -10, -8, -6, -4, -2, 0, 2, 4, 6, 8, 10, 12, 14, 16, 18, 20]"
   ],
   "metadata": {
    "collapsed": false,
    "pycharm": {
     "name": "#%%\n"
    }
   }
  },
  {
   "cell_type": "code",
   "execution_count": null,
   "outputs": [],
   "source": [
    "f = open(output_path+'23_signals/23_signal.json')\n",
    "signal_acc = json.load(f)\n",
    "signal_acc"
   ],
   "metadata": {
    "collapsed": false,
    "pycharm": {
     "name": "#%%\n"
    }
   }
  },
  {
   "cell_type": "code",
   "execution_count": null,
   "outputs": [],
   "source": [
    "sensitivity_23 = []\n",
    "for k, val in signal_acc.items():\n",
    "    for i in range(len(val)):\n",
    "        if val[i] >= 90:\n",
    "            sensitivity_23.append(snr[i])\n",
    "            break\n",
    "        elif i == len(val) - 1:\n",
    "            sensitivity_23.append(20)"
   ],
   "metadata": {
    "collapsed": false,
    "pycharm": {
     "name": "#%%\n"
    }
   }
  },
  {
   "cell_type": "code",
   "execution_count": null,
   "outputs": [],
   "source": [
    "figure = plt.figure()\n",
    "plt.rcParams.update({'font.size': 13})\n",
    "plt.figure(figsize=(9.5,6))\n",
    "plt.subplots_adjust(bottom=0.19)\n",
    "plt.plot(signals_23, sensitivity_23, marker='o', color='#673AB7')\n",
    "plt.yticks(numpy.arange(-12,6, 2))\n",
    "plt.xticks(signals_23, rotation=50)\n",
    "plt.xlabel('Modulation')\n",
    "plt.ylabel('SNR (dB)')\n",
    "plt.grid(color = \"grey\", linewidth = \"0.8\", linestyle = \"--\")\n",
    "#plt.show()\n",
    "plt.savefig(output_path + 'Results/23_signals/sensitivity_global23.png')"
   ],
   "metadata": {
    "collapsed": false,
    "pycharm": {
     "name": "#%%\n"
    }
   }
  },
  {
   "cell_type": "code",
   "execution_count": null,
   "outputs": [],
   "source": [
    "ticks = []\n",
    "a = numpy.arange(32, 102, 2)\n",
    "plt.rcParams.update({'font.size': 12})\n",
    "for i in a:\n",
    "    if i %10 == 0:\n",
    "        ticks.append(str(i))\n",
    "    else:\n",
    "        ticks.append(\"\")\n",
    "best_8 = [dict_train_20[s]*100 for s in snr]\n",
    "plt.plot(snr, best_8,  marker='v', color ='#2196F3')\n",
    "plt.plot(snr, values_23, marker='o', color='#673AB7')\n",
    "plt.grid(color = \"grey\", linewidth = \"0.8\", linestyle = \"--\")\n",
    "plt.xticks(snr)\n",
    "plt.yticks(a,ticks)\n",
    "plt.xlabel(\"SNR (dB)\")\n",
    "plt.legend([\"8-class radar dataset\", \"DeepRadar dataset\"])\n",
    "plt.ylabel(\"Accuracy (%)\")\n",
    "plt.savefig(output_path + 'Results/23_signals/23_overall_acc.png')\n",
    "#plt.show()"
   ],
   "metadata": {
    "collapsed": false,
    "pycharm": {
     "name": "#%%\n"
    }
   }
  },
  {
   "cell_type": "code",
   "execution_count": null,
   "outputs": [],
   "source": [
    "figure = plt.figure()\n",
    "ticks = []\n",
    "a = numpy.arange(28, 102, 2)\n",
    "for i in a:\n",
    "    if i %10 == 0:\n",
    "        ticks.append(str(i))\n",
    "    else:\n",
    "        ticks.append(\"\")\n",
    "for i in signals_23:\n",
    "    plt.plot(snr, lstm23[i], marker='o')\n",
    "plt.grid(color = \"grey\", linewidth = \"0.8\", linestyle = \"--\")\n",
    "plt.legend(signals_23)\n",
    "plt.yticks(a,ticks)\n",
    "plt.xlabel(\"SNR (dB)\")\n",
    "plt.ylabel(\"Accuracy (%)\")\n",
    "plt.title(\"LSTM Network results\")\n",
    "#plt.savefig(output_path + 'Results/8_signals/lstm/signal_accuracy.png')\n",
    "#plt.show()"
   ],
   "metadata": {
    "collapsed": false,
    "pycharm": {
     "name": "#%%\n"
    }
   }
  },
  {
   "cell_type": "code",
   "execution_count": null,
   "outputs": [],
   "source": [
    "figure = plt.figure()\n",
    "ticks = []\n",
    "a = numpy.arange(30, 105, 5)\n",
    "for i in a:\n",
    "    if i %10 == 0:\n",
    "        ticks.append(str(i))\n",
    "    else:\n",
    "        ticks.append(\"\")\n",
    "plt.rcParams['font.family'] = 'Times New Roman'\n",
    "plt.plot(snr,overall_accuracy_23)\n",
    "plt.xticks(numpy.arange(-12,22, 2))\n",
    "plt.yticks(a,ticks)\n",
    "plt.ylabel('Accuracy (%)')\n",
    "plt.xlabel('SNR (dB)')\n",
    "plt.grid(color = \"grey\", linewidth = \"0.8\", linestyle = \"--\")\n",
    "#plt.savefig(output_path + 'Results/8_signals/sensitivity.png')\n",
    "plt.show()"
   ],
   "metadata": {
    "collapsed": false,
    "pycharm": {
     "name": "#%%\n"
    }
   }
  },
  {
   "cell_type": "markdown",
   "source": [
    "# Autocorrelation domain sequences"
   ],
   "metadata": {
    "collapsed": false,
    "pycharm": {
     "name": "#%% md\n"
    }
   }
  },
  {
   "cell_type": "markdown",
   "source": [
    "#### LSTM"
   ],
   "metadata": {
    "collapsed": false,
    "pycharm": {
     "name": "#%% md\n"
    }
   }
  },
  {
   "cell_type": "code",
   "execution_count": null,
   "outputs": [],
   "source": [
    "sablnet_corr = [0.88, 0.96, 0.99, 1,1,1,1,1,1,1,1,1,1,1,1,1,1]\n"
   ],
   "metadata": {
    "collapsed": false,
    "pycharm": {
     "name": "#%%\n"
    }
   }
  },
  {
   "cell_type": "code",
   "execution_count": null,
   "outputs": [],
   "source": [
    "llength_barkerstm_corr = [0.83375,\n",
    " 0.9491666666666667,\n",
    " 0.9816666666666667,\n",
    " 0.9933333333333333,\n",
    " 0.9979166666666667,\n",
    " 0.9995833333333334,\n",
    " 1.0,\n",
    " 0.9995833333333334,\n",
    " 1.0,\n",
    " 1.0,\n",
    " 1.0,\n",
    " 0.9995833333333334,\n",
    " 0.9995833333333334,\n",
    " 1.0,\n",
    " 1.0,\n",
    " 1.0,\n",
    " 1.0]"
   ],
   "metadata": {
    "collapsed": false,
    "pycharm": {
     "name": "#%%\n"
    }
   }
  },
  {
   "cell_type": "code",
   "execution_count": null,
   "outputs": [],
   "source": [
    "plt.plot(snr, sablnet_corr, marker='o')\n",
    "plt.plot(snr, lstm_corr, marker=' >')\n",
    "plt.legend([\"SABLNet\", \"LSTM\"])\n",
    "plt.show()"
   ],
   "metadata": {
    "collapsed": false,
    "pycharm": {
     "name": "#%%\n"
    }
   }
  },
  {
   "cell_type": "markdown",
   "source": [
    "### Min SNR for each signal for 90%"
   ],
   "metadata": {
    "collapsed": false,
    "pycharm": {
     "name": "#%% md\n"
    }
   }
  },
  {
   "cell_type": "code",
   "execution_count": null,
   "outputs": [],
   "source": [
    "a = open('/Users/mariavictoriadacostarivas/Documents/GMR/AMC_transformers/lstm_corr_acc.json')\n",
    "lstm_corr_acc = json.load(a)\n"
   ],
   "metadata": {
    "collapsed": false,
    "pycharm": {
     "name": "#%%\n"
    }
   }
  },
  {
   "cell_type": "markdown",
   "source": [
    "## -20:2:20 d"
   ],
   "metadata": {
    "collapsed": false,
    "pycharm": {
     "name": "#%% md\n"
    }
   }
  },
  {
   "cell_type": "code",
   "execution_count": null,
   "outputs": [],
   "source": [
    "a = open('/Users/mariavictoriadacostarivas/Documents/GMR/AMC_transformers/lstm_corr_acc.json')\n",
    "lstm_corr_acc = json.load(a)"
   ],
   "metadata": {
    "collapsed": false,
    "pycharm": {
     "name": "#%%\n"
    }
   }
  },
  {
   "cell_type": "code",
   "execution_count": null,
   "outputs": [],
   "source": [
    "lstm_corr_acc"
   ],
   "metadata": {
    "collapsed": false,
    "pycharm": {
     "name": "#%%\n"
    }
   }
  },
  {
   "cell_type": "code",
   "execution_count": null,
   "outputs": [],
   "source": [
    "signals_dict = ['NM','LFM', 'BFSK', 'SIN', 'EXP', 'LFM_ESC', 'BPSK', 'BASK']\n",
    "ticks = []\n",
    "a = numpy.arange(70, 102, 2)\n",
    "for i in a:\n",
    "    if i %10 == 0:\n",
    "        ticks.append(str(i))\n",
    "    else:\n",
    "        ticks.append(\"\")\n",
    "xticks = []\n",
    "b = numpy.arange(-12, 22, 2)\n",
    "for i in b:\n",
    "    if i %2 == 0:\n",
    "        xticks.append(str(i))\n",
    "    else:\n",
    "        xticks.append(\"\")\n",
    "fig = plt.figure()\n",
    "for i in  signals_dict:\n",
    "    plt.plot(snr, lstm_corr_acc[i], marker='o')\n",
    "#plt.xticks(numpy.arange(-12,22, 2))\n",
    "plt.rcParams['font.family'] = 'Times New Roman'\n",
    "plt.yticks(a,ticks)\n",
    "plt.xticks(b)\n",
    "plt.grid(color = \"grey\", linewidth = \"0.8\", linestyle = \"--\")\n",
    "plt.legend(signals_8)\n",
    "plt.xlabel(\"SNR (dB)\")\n",
    "plt.ylabel(\"Accuracy (%)\")\n",
    "plt.savefig(output_path + 'Results/8_signals/lstm/Corr/lstm8_corr.png')\n",
    "#plt.show()"
   ],
   "metadata": {
    "collapsed": false,
    "pycharm": {
     "name": "#%%\n"
    }
   }
  },
  {
   "cell_type": "code",
   "execution_count": null,
   "outputs": [],
   "source": [
    "signals_8 = ['CW','LFM', 'BFSK', 'SIN', 'EXP', 'SFW', 'BPSK', 'BASK']\n",
    "sablnet_sensitivity = [-12, -10, -12, -12, -8, -12, -12, -12]\n",
    "lstmcorr_sensitivity = [-12, -10, -10, -10, -12, -8, -10, -10]"
   ],
   "metadata": {
    "collapsed": false,
    "pycharm": {
     "name": "#%%\n"
    }
   }
  },
  {
   "cell_type": "code",
   "execution_count": null,
   "outputs": [],
   "source": [
    "plt.plot(signals_8, sablnet_sensitivity)\n",
    "plt.plot(signals_8, lstmcorr_sensitivity)\n",
    "plt.legend([\"SABLNet\", \"LSTM\"])\n",
    "plt.show()\n"
   ],
   "metadata": {
    "collapsed": false,
    "pycharm": {
     "name": "#%%\n"
    }
   }
  },
  {
   "cell_type": "markdown",
   "source": [
    "## Attention"
   ],
   "metadata": {
    "collapsed": false,
    "pycharm": {
     "name": "#%% md\n"
    }
   }
  }
 ],
 "metadata": {
  "kernelspec": {
   "display_name": "Python 3",
   "language": "python",
   "name": "python3"
  },
  "language_info": {
   "codemirror_mode": {
    "name": "ipython",
    "version": 2
   },
   "file_extension": ".py",
   "mimetype": "text/x-python",
   "name": "python",
   "nbconvert_exporter": "python",
   "pygments_lexer": "ipython2",
   "version": "2.7.6"
  }
 },
 "nbformat": 4,
 "nbformat_minor": 0
}