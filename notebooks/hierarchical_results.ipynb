{
 "cells": [
  {
   "cell_type": "code",
   "execution_count": null,
   "metadata": {
    "collapsed": true,
    "pycharm": {
     "name": "#%%\n"
    }
   },
   "outputs": [],
   "source": [
    "import matplotlib.pyplot as plt\n",
    "import numpy\n",
    "import json\n",
    "classes = ['LFM', 'LFM_triang', 'LFM_esc', '2FSK', '4FSK', '8FSK', 'Costas', '2PSK', '4PSK', '8PSK', 'Barker', 'Frank',\n",
    "           'NM']\n",
    "snrs = [8, -6, -4, -2, 0, 2, 4, 6, 8, 10, 12, 14, 16, 18, 20]\n",
    "signal_accuracy_f = open('/Users/mariavictoriadacostarivas/Documents/GMR/AMC_transformers/Results/hierarchical/signal_acc.json')\n",
    "signal_accuracy = json.load(signal_accuracy_f)\n",
    "signal_accuracy"
   ]
  },
  {
   "cell_type": "code",
   "execution_count": null,
   "outputs": [],
   "source": [
    "signal_acc = dict()\n",
    "for key, value in signal_accuracy.items():\n",
    "    signal_acc[key] = []\n",
    "    for i in range(len(snrs)):\n",
    "        signal_acc[key].append(value[i])"
   ],
   "metadata": {
    "collapsed": false,
    "pycharm": {
     "name": "#%%\n"
    }
   }
  },
  {
   "cell_type": "code",
   "execution_count": null,
   "outputs": [],
   "source": [
    "hierarchical_acc = dict()\n",
    "for i in classes:\n",
    "    hierarchical_acc[i] = []\n",
    "hierarchical_acc['LFM'] = [0.2796, 0.607, 0.7208, 0.7650, 0.8333, 0.8504, 0.9354, 0.9742, 0.9771, 0.9896]\n",
    "hierarchical_acc['LFM_triang'] = [0.952, 0.865, 0.7575, 0.75, 0.75, 0.75, 0.75, 0.75, 0.75, 0.75]\n",
    "hierarchical_acc['LFM_esc'] = [0.522, 0.746, 0.742, 0.756, 0.749, 0.741, 0.742, 0.708, 0.655, 0.659]\n",
    "hierarchical_acc['2FSK'] = [0.575833333333333\t0.798333333333333\t0.821666666666667\t0.856666666666667\t0.875833333333333\t0.889166666666667\t0.895\t0.910833333333333\t0.91\t0.913333333333333]\n",
    "hierarchical_acc['4FSK'] = [0.567272727272727, 0.649090909090909, 0.711818181818182, 0.743636363636364,\n",
    "                            0.740909090909091, 0.785454545454545, 0.77, 0.781818181818182, 0.774545454545455,\n",
    "                            0.786363636363636]\n",
    "hierarchical_acc['8FSK'] = [0.575, 0.796666666666667, 0.831666666666667, 0.855, 0.85, 0.873333333333333, 0.875,\n",
    "                            0.851666666666667, 0.863333333333333, 0.861666666666667]\n",
    "hierarchical_acc['Costas'] = [0.225384615384615, 0.5, 0.629230769230769, 0.693846153846154, 0.752307692307692,\n",
    "                              0.783846153846154, 0.790769230769231, 0.806153846153846, 0.860769230769231,\n",
    "                              0.874615384615385]\n",
    "hierarchical_acc['2PSK'] = [0.694, 0.628, 0.548, 0.528, 0.554, 0.596, 0.576, 0.602, 0.618, 0.598]\n",
    "hierarchical_acc['4PSK'] = [0.353333333333333, 0.33, 0.39, 0.423333333333333, 0.445555555555556, 0.476666666666667,\n",
    "                            0.472222222222222, 0.484444444444444, 0.5, 0.505555555555556]\n",
    "hierarchical_acc['8PSK'] = [0.634444444444444, 0.974444444444444, 0.995555555555556, 0.996666666666667,\n",
    "                            0.997777777777778, 0.995555555555556, 0.995555555555556, 0.992222222222222, 0.99,\n",
    "                            0.993333333333333]\n",
    "hierarchical_acc['Barker'] = [0.08, 0.35, 0.638333333333333, 0.806666666666667, 0.834444444444444, 0.868888888888889,\n",
    "                              0.875555555555556, 0.877777777777778, 0.877777777777778, 0.886111111111111]\n",
    "hierarchical_acc['Frank'] = [0.018, 0.112666666666667, 0.342, 0.583333333333333, 0.694, 0.756666666666667, 0.804,\n",
    "                             0.845333333333333, 0.86, 0.857333333333333]\n",
    "hierarchical_acc['NM'] = [0.691428571428571, 0.907142857142857, 0.967142857142857, 0.987142857142857, 0.988571428571429,\n",
    "                          0.997142857142857, 1, 0.997142857142857, 0.998571428571429, 1]\n"
   ],
   "metadata": {
    "collapsed": false,
    "pycharm": {
     "name": "#%%\n"
    }
   }
  },
  {
   "cell_type": "code",
   "execution_count": null,
   "outputs": [],
   "source": [
    "for key, value in hierarchical_acc.items():\n",
    "    hierarchical_acc[key] = [a * 100 for a in value]\n",
    "len(classes)\n",
    "len(colors)\n",
    "\n",
    "fig = plt.figure()\n",
    "ax = fig.add_subplot(111)\n",
    "colors = ['#39b39f', '#e130b3', '#2b3d59', '#835df0', '#01b73e', '#f4d302', '#6eacea', '#c01312', '#217d87', '#b2a65b',\n",
    "          '#f77d23', '#0210d8', '#7c2259']\n",
    "for n, i in enumerate(classes):\n",
    "    lstm, = ax.plot(signal_acc[i][:9], linestyle='--', marker='o', color=colors[n])\n",
    "for n, i in enumerate(classes):\n",
    "    hierarchical, = ax.plot(hierarchical_acc[i], marker='>', color=colors[n])\n",
    "plt.legend(classes, fontsize=13, loc='upper right', bbox_to_anchor=(1.4, 1.1))\n",
    "plt.grid(color=\"grey\", linewidth=\"0.8\", linestyle=\"--\")\n",
    "plt.xticks(fontsize=13)\n",
    "plt.yticks(fontsize=13)\n",
    "leg1 = ax.legend(classes, fontsize=13, loc='upper right', bbox_to_anchor=(1.4, 1.1))\n",
    "# Add second legend for the maxes and mins.\n",
    "# leg1 will be removed from figure\n",
    "leg2 = ax.legend([lstm, hierarchical], ['LSTM AMC', 'Hierarchical AMC'], loc='lower right', fontsize=13)\n",
    "# Manually add the first legend back\n",
    "ax.add_artist(leg1)\n",
    "plt.savefig(\n",
    "    '/Users/mariavictoriadacostarivas/Documents/GMR/AMC_transformers/Results/hierarchical/hierarchical_comp.png',\n",
    "    bbox_inches='tight')"
   ],
   "metadata": {
    "collapsed": false,
    "pycharm": {
     "name": "#%%\n"
    }
   }
  },
  {
   "cell_type": "code",
   "execution_count": null,
   "outputs": [],
   "source": [
    "sensitivity_hierarchical = []\n",
    "for k, val in hierarchical_acc.items():\n",
    "    for i in range(len(val)):\n",
    "        if val[i] >= 90:\n",
    "            sensitivity_hierarchical.append(snrs[i])\n",
    "            break\n",
    "        elif i == len(val) - 1:\n",
    "            sensitivity_hierarchical.append(10)\n",
    "sensitivity_lstm = []\n",
    "for k, val in signal_acc.items():\n",
    "    for i in range(len(val)):\n",
    "        if val[i] >= 90:\n",
    "            sensitivity_lstm.append(snrs[i])\n",
    "            break\n",
    "        elif i == len(val) - 1:\n",
    "            sensitivity_lstm.append(10)\n",
    "\n",
    "output_path = '/Users/mariavictoriadacostarivas/Documents/GMR/AMC_transformers/Results/hierarchical/'\n",
    "plt.plot(classes, sensitivity_hierarchical, marker='>', color='purple')\n",
    "plt.plot(classes, sensitivity_lstm, marker='o', color='green')\n",
    "plt.yticks(numpy.arange(-6, 12, 2), fontsize=13)\n",
    "plt.xticks(classes, rotation=50, fontsize=13)\n",
    "plt.xlabel('Modulation')\n",
    "plt.ylabel('SNR (dB)')\n",
    "plt.grid(color=\"grey\", linewidth=\"0.8\", linestyle=\"--\")\n",
    "plt.legend([\"Hierarchical AMC\", \"LSTM-AMC\"], fontsize=12, loc='center')\n",
    "plt.savefig(output_path + 'signal_accuracy.png', bbox_inches='tight')\n",
    "#plt.show()"
   ],
   "metadata": {
    "collapsed": false,
    "pycharm": {
     "name": "#%%\n"
    }
   }
  },
  {
   "cell_type": "code",
   "execution_count": 3,
   "outputs": [
    {
     "data": {
      "text/plain": "[['LFM;42;7;0;0;0;0;0;0;0;0;'],\n ['FM;0;3;0;0;0;0;0;0;0;0;'],\n ['PSK;56;90;100;100;100;100;100;100;100;100;'],\n ['NM;2;0;0;0;0;0;0;0;0;0;'],\n ['2PSK;32;8;2;2;1;3;2;6;8;5;'],\n ['4PSK;4;5;2;1;1;1;2;1;1;1;'],\n ['MPSK;20;77;96;97;98;96;96;93;91;94;']]"
     },
     "execution_count": 3,
     "metadata": {},
     "output_type": "execute_result"
    }
   ],
   "source": [
    "from sklearn.metrics import confusion_matrix\n",
    "import csv\n",
    "classification = [\"LFM\", \"FM\", \"NM\", \"2PSK\", \"4PSK\", \"MPSK\"]\n",
    "signals = 900\n",
    "results = []\n",
    "with open(\"/Users/mariavictoriadacostarivas/Documents/GMR/HierarchicalClassifier/informe_final/confusion_matrix_8psk.csv\") as csvfile:\n",
    "    reader = csv.reader(csvfile) # change contents to floats\n",
    "    for row in reader: # each row is a list\n",
    "        results.append(row)\n",
    "results"
   ],
   "metadata": {
    "collapsed": false,
    "pycharm": {
     "name": "#%%\n"
    }
   }
  }
 ],
 "metadata": {
  "kernelspec": {
   "display_name": "Python 3",
   "language": "python",
   "name": "python3"
  },
  "language_info": {
   "codemirror_mode": {
    "name": "ipython",
    "version": 2
   },
   "file_extension": ".py",
   "mimetype": "text/x-python",
   "name": "python",
   "nbconvert_exporter": "python",
   "pygments_lexer": "ipython2",
   "version": "2.7.6"
  }
 },
 "nbformat": 4,
 "nbformat_minor": 0
}