{
 "cells": [
  {
   "cell_type": "code",
   "execution_count": 1,
   "metadata": {
    "collapsed": true,
    "pycharm": {
     "name": "#%%\n"
    }
   },
   "outputs": [],
   "source": [
    "import matplotlib.pyplot as plt\n",
    "import numpy\n",
    "import json\n",
    "\n",
    "classes = ['OOK', '4ASK', '8ASK', 'BPSK', 'QPSK', '8PSK', '16PSK', '32PSK', '16APSK', '32APSK', '64APSK', '128APSK',\n",
    "           '16QAM', '32QAM', '64QAM', '128QAM', '256QAM', 'AM-SSB-WC', 'AM-SSB-SC', 'AM-DSB-WC', 'AM-DSB-SC', 'FM',\n",
    "           'GMSK', 'OQPSK']\n",
    "snrs = [-20, -18, -16, -14, -12, -10, -8, -6, -4, -2, 0, 2, 4, 6, 8, 10, 12, 14, 16, 18, 20, 22, 24, 26, 28, 30]"
   ]
  },
  {
   "cell_type": "code",
   "execution_count": 2,
   "outputs": [],
   "source": [
    "signal_accuracy_f = open('/Users/mariavictoriadacostarivas/Documents/GMR/AMC_transformers/Results/RadioMl/coms_signal.json')\n",
    "signal_accuracy = json.load(signal_accuracy_f)\n"
   ],
   "metadata": {
    "collapsed": false,
    "pycharm": {
     "name": "#%%\n"
    }
   }
  },
  {
   "cell_type": "code",
   "execution_count": null,
   "outputs": [],
   "source": [],
   "metadata": {
    "collapsed": false,
    "pycharm": {
     "name": "#%%\n"
    }
   }
  },
  {
   "cell_type": "code",
   "execution_count": 3,
   "outputs": [],
   "source": [
    "output_path =\"/Users/mariavictoriadacostarivas/Documents/GMR/AMC_transformers/Results/RadioMl/\""
   ],
   "metadata": {
    "collapsed": false,
    "pycharm": {
     "name": "#%%\n"
    }
   }
  },
  {
   "cell_type": "code",
   "execution_count": 5,
   "outputs": [
    {
     "data": {
      "text/plain": "{'OOK': [4.0,\n  3.0,\n  4.0,\n  7.000000000000001,\n  16.0,\n  28.999999999999996,\n  52.0,\n  73.0,\n  87.0,\n  95.0,\n  100.0,\n  100.0,\n  100.0,\n  100.0,\n  100.0,\n  100.0,\n  100.0,\n  100.0,\n  100.0,\n  100.0,\n  100.0,\n  100.0,\n  100.0,\n  100.0,\n  100.0,\n  100.0],\n '4ASK': [3.0,\n  3.0,\n  4.0,\n  5.0,\n  7.000000000000001,\n  12.0,\n  17.0,\n  32.0,\n  44.0,\n  64.0,\n  75.0,\n  82.0,\n  90.0,\n  97.0,\n  99.0,\n  100.0,\n  100.0,\n  100.0,\n  100.0,\n  100.0,\n  100.0,\n  100.0,\n  100.0,\n  100.0,\n  100.0,\n  100.0],\n '8ASK': [2.0,\n  4.0,\n  4.0,\n  8.0,\n  12.0,\n  20.0,\n  28.999999999999996,\n  50.0,\n  70.0,\n  76.0,\n  75.0,\n  82.0,\n  95.0,\n  98.0,\n  100.0,\n  100.0,\n  100.0,\n  100.0,\n  100.0,\n  100.0,\n  100.0,\n  100.0,\n  100.0,\n  100.0,\n  100.0,\n  100.0],\n 'BPSK': [11.0,\n  10.0,\n  9.0,\n  8.0,\n  11.0,\n  16.0,\n  43.0,\n  93.0,\n  100.0,\n  100.0,\n  100.0,\n  100.0,\n  100.0,\n  100.0,\n  100.0,\n  100.0,\n  100.0,\n  100.0,\n  100.0,\n  100.0,\n  100.0,\n  100.0,\n  100.0,\n  100.0,\n  100.0,\n  100.0],\n 'QPSK': [3.0,\n  4.0,\n  6.0,\n  4.0,\n  4.0,\n  5.0,\n  7.000000000000001,\n  11.0,\n  18.0,\n  51.0,\n  96.0,\n  100.0,\n  100.0,\n  100.0,\n  100.0,\n  100.0,\n  100.0,\n  100.0,\n  100.0,\n  100.0,\n  100.0,\n  100.0,\n  100.0,\n  100.0,\n  100.0,\n  100.0],\n '8PSK': [3.0,\n  4.0,\n  4.0,\n  2.0,\n  3.0,\n  3.0,\n  2.0,\n  9.0,\n  9.0,\n  18.0,\n  36.0,\n  78.0,\n  100.0,\n  100.0,\n  100.0,\n  100.0,\n  100.0,\n  100.0,\n  100.0,\n  100.0,\n  100.0,\n  100.0,\n  100.0,\n  100.0,\n  100.0,\n  100.0],\n '16PSK': [2.0,\n  2.0,\n  2.0,\n  2.0,\n  1.0,\n  5.0,\n  4.0,\n  6.0,\n  8.0,\n  15.0,\n  24.0,\n  39.0,\n  54.0,\n  86.0,\n  100.0,\n  100.0,\n  100.0,\n  100.0,\n  100.0,\n  100.0,\n  100.0,\n  100.0,\n  100.0,\n  100.0,\n  100.0,\n  100.0],\n '32PSK': [4.0,\n  4.0,\n  2.0,\n  5.0,\n  4.0,\n  5.0,\n  7.000000000000001,\n  8.0,\n  6.0,\n  18.0,\n  42.0,\n  45.0,\n  63.0,\n  91.0,\n  99.0,\n  100.0,\n  100.0,\n  100.0,\n  100.0,\n  100.0,\n  100.0,\n  100.0,\n  100.0,\n  100.0,\n  100.0,\n  100.0],\n '16APSK': [2.0,\n  3.0,\n  2.0,\n  2.0,\n  3.0,\n  4.0,\n  3.0,\n  3.0,\n  8.0,\n  35.0,\n  74.0,\n  93.0,\n  100.0,\n  100.0,\n  100.0,\n  100.0,\n  100.0,\n  100.0,\n  100.0,\n  100.0,\n  100.0,\n  100.0,\n  100.0,\n  100.0,\n  100.0,\n  100.0],\n '32APSK': [7.000000000000001,\n  7.000000000000001,\n  6.0,\n  4.0,\n  4.0,\n  3.0,\n  3.0,\n  12.0,\n  20.0,\n  45.0,\n  67.0,\n  87.0,\n  99.0,\n  100.0,\n  100.0,\n  100.0,\n  100.0,\n  100.0,\n  100.0,\n  100.0,\n  100.0,\n  100.0,\n  100.0,\n  100.0,\n  100.0,\n  100.0],\n '64APSK': [4.0,\n  4.0,\n  2.0,\n  2.0,\n  2.0,\n  3.0,\n  1.0,\n  6.0,\n  4.0,\n  10.0,\n  12.0,\n  23.0,\n  59.0,\n  91.0,\n  99.0,\n  100.0,\n  100.0,\n  100.0,\n  100.0,\n  100.0,\n  100.0,\n  100.0,\n  100.0,\n  100.0,\n  100.0,\n  100.0],\n '128APSK': [8.0,\n  5.0,\n  5.0,\n  5.0,\n  6.0,\n  6.0,\n  5.0,\n  7.000000000000001,\n  10.0,\n  8.0,\n  18.0,\n  47.0,\n  69.0,\n  91.0,\n  98.0,\n  100.0,\n  100.0,\n  100.0,\n  100.0,\n  100.0,\n  100.0,\n  100.0,\n  100.0,\n  100.0,\n  100.0,\n  100.0],\n '16QAM': [1.0,\n  2.0,\n  2.0,\n  2.0,\n  3.0,\n  2.0,\n  3.0,\n  5.0,\n  3.0,\n  8.0,\n  26.0,\n  55.00000000000001,\n  97.0,\n  100.0,\n  100.0,\n  100.0,\n  100.0,\n  100.0,\n  100.0,\n  100.0,\n  100.0,\n  100.0,\n  100.0,\n  100.0,\n  100.0,\n  100.0],\n '32QAM': [1.0,\n  1.0,\n  2.0,\n  1.0,\n  2.0,\n  3.0,\n  2.0,\n  1.0,\n  5.0,\n  4.0,\n  16.0,\n  34.0,\n  70.0,\n  93.0,\n  99.0,\n  100.0,\n  100.0,\n  100.0,\n  100.0,\n  100.0,\n  100.0,\n  100.0,\n  100.0,\n  100.0,\n  100.0,\n  100.0],\n '64QAM': [3.0,\n  4.0,\n  2.0,\n  3.0,\n  4.0,\n  5.0,\n  5.0,\n  9.0,\n  7.000000000000001,\n  8.0,\n  13.0,\n  20.0,\n  40.0,\n  62.0,\n  78.0,\n  94.0,\n  99.0,\n  99.0,\n  100.0,\n  100.0,\n  100.0,\n  100.0,\n  99.0,\n  100.0,\n  100.0,\n  99.0],\n '128QAM': [5.0,\n  4.0,\n  5.0,\n  4.0,\n  5.0,\n  4.0,\n  4.0,\n  1.0,\n  2.0,\n  9.0,\n  10.0,\n  17.0,\n  51.0,\n  79.0,\n  92.0,\n  97.0,\n  98.0,\n  98.0,\n  98.0,\n  98.0,\n  98.0,\n  98.0,\n  99.0,\n  99.0,\n  98.0,\n  98.0],\n '256QAM': [3.0,\n  3.0,\n  4.0,\n  2.0,\n  3.0,\n  4.0,\n  4.0,\n  7.000000000000001,\n  11.0,\n  18.0,\n  24.0,\n  39.0,\n  48.0,\n  54.0,\n  83.0,\n  93.0,\n  96.0,\n  96.0,\n  96.0,\n  97.0,\n  98.0,\n  98.0,\n  97.0,\n  97.0,\n  98.0,\n  97.0],\n 'AM-SSB-WC': [5.0,\n  5.0,\n  8.0,\n  12.0,\n  23.0,\n  23.0,\n  33.0,\n  54.0,\n  50.0,\n  61.0,\n  73.0,\n  85.0,\n  87.0,\n  89.0,\n  94.0,\n  89.0,\n  91.0,\n  91.0,\n  91.0,\n  93.0,\n  92.0,\n  91.0,\n  94.0,\n  91.0,\n  92.0,\n  94.0],\n 'AM-SSB-SC': [4.0,\n  4.0,\n  6.0,\n  14.000000000000002,\n  19.0,\n  28.999999999999996,\n  33.0,\n  31.0,\n  48.0,\n  51.0,\n  64.0,\n  68.0,\n  68.0,\n  70.0,\n  68.0,\n  71.0,\n  73.0,\n  76.0,\n  69.0,\n  75.0,\n  75.0,\n  72.0,\n  73.0,\n  73.0,\n  73.0,\n  74.0],\n 'AM-DSB-WC': [4.0,\n  5.0,\n  7.000000000000001,\n  11.0,\n  19.0,\n  36.0,\n  48.0,\n  54.0,\n  57.99999999999999,\n  63.0,\n  77.0,\n  89.0,\n  95.0,\n  98.0,\n  98.0,\n  99.0,\n  98.0,\n  98.0,\n  99.0,\n  98.0,\n  98.0,\n  100.0,\n  98.0,\n  99.0,\n  99.0,\n  98.0],\n 'AM-DSB-SC': [5.0,\n  4.0,\n  7.000000000000001,\n  11.0,\n  24.0,\n  42.0,\n  50.0,\n  45.0,\n  45.0,\n  51.0,\n  72.0,\n  76.0,\n  86.0,\n  90.0,\n  92.0,\n  93.0,\n  93.0,\n  92.0,\n  90.0,\n  94.0,\n  91.0,\n  92.0,\n  92.0,\n  92.0,\n  91.0,\n  92.0],\n 'FM': [12.0,\n  11.0,\n  14.000000000000002,\n  18.0,\n  32.0,\n  64.0,\n  92.0,\n  100.0,\n  100.0,\n  100.0,\n  100.0,\n  100.0,\n  100.0,\n  100.0,\n  100.0,\n  100.0,\n  100.0,\n  100.0,\n  100.0,\n  100.0,\n  100.0,\n  100.0,\n  100.0,\n  100.0,\n  100.0,\n  100.0],\n 'GMSK': [10.0,\n  9.0,\n  12.0,\n  12.0,\n  11.0,\n  12.0,\n  19.0,\n  24.0,\n  71.0,\n  98.0,\n  100.0,\n  100.0,\n  100.0,\n  100.0,\n  100.0,\n  100.0,\n  100.0,\n  100.0,\n  100.0,\n  100.0,\n  100.0,\n  100.0,\n  100.0,\n  100.0,\n  100.0,\n  100.0],\n 'OQPSK': [6.0,\n  4.0,\n  4.0,\n  4.0,\n  5.0,\n  7.000000000000001,\n  6.0,\n  14.000000000000002,\n  37.0,\n  81.0,\n  98.0,\n  100.0,\n  100.0,\n  100.0,\n  100.0,\n  100.0,\n  100.0,\n  100.0,\n  100.0,\n  100.0,\n  100.0,\n  100.0,\n  100.0,\n  100.0,\n  100.0,\n  100.0]}"
     },
     "execution_count": 5,
     "metadata": {},
     "output_type": "execute_result"
    }
   ],
   "source": [],
   "metadata": {
    "collapsed": false,
    "pycharm": {
     "name": "#%%\n"
    }
   }
  },
  {
   "cell_type": "code",
   "execution_count": 4,
   "outputs": [],
   "source": [
    "sensitivity = []\n",
    "for k,val in signal_accuracy.items():\n",
    "    for i  in range(len(val)):\n",
    "        if val[i] >= 90:\n",
    "            sensitivity.append(snrs[i])\n",
    "            break\n",
    "        elif i == len(val) - 1:\n",
    "            sensitivity.append(30)\n"
   ],
   "metadata": {
    "collapsed": false,
    "pycharm": {
     "name": "#%%\n"
    }
   }
  },
  {
   "cell_type": "code",
   "execution_count": 5,
   "outputs": [
    {
     "data": {
      "text/plain": "[-2, 4, 4, -6, 0, 4, 8, 6, 2, 4, 6, 6, 4, 6, 10, 8, 10, 8, 30, 4, 6, -8, -2, 0]"
     },
     "execution_count": 5,
     "metadata": {},
     "output_type": "execute_result"
    }
   ],
   "source": [
    "sensitivity"
   ],
   "metadata": {
    "collapsed": false,
    "pycharm": {
     "name": "#%%\n"
    }
   }
  },
  {
   "cell_type": "code",
   "execution_count": 6,
   "outputs": [],
   "source": [
    "overall_acc_f = open('/Users/mariavictoriadacostarivas/Documents/GMR/AMC_transformers/Results/RadioMl/coms_acc.json')\n",
    "overall_accuracy = json.load(overall_acc_f)"
   ],
   "metadata": {
    "collapsed": false,
    "pycharm": {
     "name": "#%%\n"
    }
   }
  },
  {
   "cell_type": "code",
   "execution_count": 7,
   "outputs": [],
   "source": [
    "for k,val in overall_accuracy.items():\n",
    "    overall_accuracy[k] = val*100"
   ],
   "metadata": {
    "collapsed": false,
    "pycharm": {
     "name": "#%%\n"
    }
   }
  },
  {
   "cell_type": "code",
   "execution_count": 33,
   "outputs": [],
   "source": [
    "f = plt.figure()\n",
    "f.set_figwidth(8.5)\n",
    "f.set_figheight(6.5)\n",
    "ticks = []\n",
    "plt.rcParams.update({'font.size': 12.5})\n",
    "a = numpy.arange(0, 102, 2)\n",
    "for i in a:\n",
    "    if i %10 == 0:\n",
    "        ticks.append(str(i))\n",
    "    else:\n",
    "        ticks.append(\"\")\n",
    "for i in range(len(classes)):\n",
    "    if i+1 > 20:\n",
    "        plt.plot(snrs, signal_accuracy[classes[i]], marker='o')\n",
    "    elif i+1 > 10:\n",
    "        plt.plot(snrs, signal_accuracy[classes[i]], marker='>')\n",
    "    else:\n",
    "        plt.plot(snrs, signal_accuracy[classes[i]], marker='s')\n",
    "\n",
    "plt.grid(color = \"grey\", linewidth = \"0.8\", linestyle = \"--\")\n",
    "plt.legend(classes, loc='upper right', bbox_to_anchor=(1.25,1.01), fontsize=11.5)\n",
    "plt.yticks(a,ticks)\n",
    "plt.xticks(numpy.arange(-20,35,5))\n",
    "plt.xlabel(\"SNR (dB)\")\n",
    "plt.ylabel(\"Accuracy (%)\")\n",
    "plt.savefig(output_path + 'signal_accuracy.png', bbox_inches='tight')\n",
    "#plt.show()"
   ],
   "metadata": {
    "collapsed": false,
    "pycharm": {
     "name": "#%%\n"
    }
   }
  },
  {
   "cell_type": "code",
   "execution_count": 18,
   "outputs": [
    {
     "data": {
      "text/plain": "<Figure size 640x480 with 1 Axes>",
      "image/png": "[encoded data removed]"
     },
     "metadata": {},
     "output_type": "display_data"
    }
   ],
   "source": [
    "ticks = []\n",
    "a = numpy.arange(5, 105, 5)\n",
    "for i in a:\n",
    "    if i %10 == 0:\n",
    "        ticks.append(str(i))\n",
    "    else:\n",
    "        ticks.append(\"\")\n",
    "plt.rcParams['font.family'] = 'Times New Roman'\n",
    "plt.plot(snrs,overall_accuracy.values())\n",
    "plt.xticks(numpy.arange(-20,32, 2))\n",
    "plt.yticks(a,ticks)\n",
    "plt.ylabel('Accuracy (%)')\n",
    "plt.xlabel('SNR (dB)')\n",
    "plt.grid(color = \"grey\", linewidth = \"0.8\", linestyle = \"--\")\n",
    "#plt.savefig(output_path + 'Results/8_signals/sensitivity.png')\n",
    "plt.show()"
   ],
   "metadata": {
    "collapsed": false,
    "pycharm": {
     "name": "#%%\n"
    }
   }
  },
  {
   "cell_type": "code",
   "execution_count": 55,
   "outputs": [
    {
     "data": {
      "text/plain": "[-2, 4, 4, -6, 0, 4, 8, 6, 2, 4, 6, 6, 4, 6, 10, 8, 10, 8, 30, 4, 6, -8, -2, 0]"
     },
     "execution_count": 55,
     "metadata": {},
     "output_type": "execute_result"
    }
   ],
   "source": [
    "sensitivity"
   ],
   "metadata": {
    "collapsed": false,
    "pycharm": {
     "name": "#%%\n"
    }
   }
  },
  {
   "cell_type": "code",
   "execution_count": 8,
   "outputs": [],
   "source": [
    "sensitivity_radioml = [-2, 6, 2, -2, 2, 6, 10, 12, 4, 4, 8, 8, 6, 8, 20, 14, 30, -6, -2, 0, -2, 30, 2,30]"
   ],
   "metadata": {
    "collapsed": false,
    "pycharm": {
     "name": "#%%\n"
    }
   }
  },
  {
   "cell_type": "code",
   "execution_count": 65,
   "outputs": [
    {
     "data": {
      "text/plain": "24"
     },
     "execution_count": 65,
     "metadata": {},
     "output_type": "execute_result"
    }
   ],
   "source": [
    "len(sensitivity_radioml)"
   ],
   "metadata": {
    "collapsed": false,
    "pycharm": {
     "name": "#%%\n"
    }
   }
  },
  {
   "cell_type": "code",
   "execution_count": 9,
   "outputs": [
    {
     "data": {
      "text/plain": "['OOK',\n '4ASK',\n '8ASK',\n 'BPSK',\n 'QPSK',\n '8PSK',\n '16PSK',\n '32PSK',\n '16APSK',\n '32APSK',\n '64APSK',\n '128APSK',\n '16QAM',\n '32QAM',\n '64QAM',\n '128QAM',\n '256QAM',\n 'AM-SSB-WC',\n 'AM-SSB-SC',\n 'AM-DSB-WC',\n 'AM-DSB-SC',\n 'FM',\n 'GMSK',\n 'OQPSK']"
     },
     "execution_count": 9,
     "metadata": {},
     "output_type": "execute_result"
    }
   ],
   "source": [
    "classes"
   ],
   "metadata": {
    "collapsed": false,
    "pycharm": {
     "name": "#%%\n"
    }
   }
  },
  {
   "cell_type": "code",
   "execution_count": 10,
   "outputs": [],
   "source": [
    "sensitivity_2 = [-2, 4, 4, -6, 0, 4, 8, 6, 2, 4, 6, 6, 4, 6, 10, 8, 10, -8, -2, 0,8, 30, 4, 6 ]\n",
    "classes_modified = ['OOK',\n",
    " '4ASK',\n",
    " '8ASK',\n",
    " 'BPSK',\n",
    " 'QPSK',\n",
    " '8PSK',\n",
    " '16PSK',\n",
    " '32PSK',\n",
    " '16APSK',\n",
    " '32APSK',\n",
    " '64APSK',\n",
    " '128APSK',\n",
    " '16QAM',\n",
    " '32QAM',\n",
    " '64QAM',\n",
    " '128QAM',\n",
    " '256QAM',\n",
    " 'FM',\n",
    " 'GMSK',\n",
    " 'OQPSK',\n",
    " 'AM-SSB-WC',\n",
    " 'AM-SSB-SC',\n",
    " 'AM-DSB-WC',\n",
    " 'AM-DSB-SC']"
   ],
   "metadata": {
    "collapsed": false,
    "pycharm": {
     "name": "#%%\n"
    }
   }
  },
  {
   "cell_type": "code",
   "execution_count": 52,
   "outputs": [
    {
     "name": "stdout",
     "output_type": "stream",
     "text": [
      "AM-SSB-WC\n",
      "8\n",
      "[-2, 4, 4, -6, 0, 4, 8, 6, 2, 4, 6, 6, 4, 6, 10, 8, 10, 30, 4, 6, -8, -2, 0]\n",
      "[-2, 4, 4, -6, 0, 4, 8, 6, 2, 4, 6, 6, 4, 6, 10, 8, 10, 30, 4, 6, -8, -2, 0, 8]\n",
      "AM-SSB-SC\n",
      "30\n",
      "[-2, 4, 4, -6, 0, 4, 8, 6, 2, 4, 6, 6, 4, 6, 10, 8, 10, 30, 6, -8, -2, 0, 8]\n",
      "[-2, 4, 4, -6, 0, 4, 8, 6, 2, 4, 6, 6, 4, 6, 10, 8, 10, 30, 6, -8, -2, 0, 8, 30]\n",
      "AM-DSB-WC\n",
      "4\n",
      "[-2, 4, 4, -6, 0, 4, 8, 6, 2, 4, 6, 6, 4, 6, 10, 8, 10, 30, 6, -2, 0, 8, 30]\n",
      "[-2, 4, 4, -6, 0, 4, 8, 6, 2, 4, 6, 6, 4, 6, 10, 8, 10, 30, 6, -2, 0, 8, 30, 4]\n",
      "AM-DSB-SC\n",
      "6\n",
      "[-2, 4, 4, -6, 0, 4, 8, 6, 2, 4, 6, 6, 4, 6, 10, 8, 10, 30, 6, -2, 8, 30, 4]\n",
      "[-2, 4, 4, -6, 0, 4, 8, 6, 2, 4, 6, 6, 4, 6, 10, 8, 10, 30, 6, -2, 8, 30, 4, 6]\n",
      "['OOK', '4ASK', '8ASK', 'BPSK', 'QPSK', '8PSK', '16PSK', '32PSK', '16APSK', '32APSK', '64APSK', '128APSK', '16QAM', '32QAM', '64QAM', '128QAM', '256QAM', 'FM', 'GMSK', 'OQPSK', 'AM-SSB-WC', 'AM-SSB-SC', 'AM-DSB-WC', 'AM-DSB-SC']\n"
     ]
    }
   ],
   "source": [],
   "metadata": {
    "collapsed": false,
    "pycharm": {
     "name": "#%%\n"
    }
   }
  },
  {
   "cell_type": "code",
   "execution_count": 13,
   "outputs": [],
   "source": [
    "a = numpy.arange(-8, 30, 2)\n",
    "ticks = []\n",
    "for i in a:\n",
    "    if i %4 == 0:\n",
    "        ticks.append(str(i))\n",
    "    else:\n",
    "        ticks.append(\"\")"
   ],
   "metadata": {
    "collapsed": false,
    "pycharm": {
     "name": "#%%\n"
    }
   }
  },
  {
   "cell_type": "code",
   "execution_count": 23,
   "outputs": [],
   "source": [
    "plt.rcParams.update({'font.size': 11})\n",
    "plt.rcParams['font.family'] = 'Times New Roman'\n",
    "plt.figure(figsize=(9,5))\n",
    "plt.subplots_adjust(bottom=0.3)\n",
    "plt.plot(classes_modified, sensitivity_2, marker='o', color = '#00BCD4')\n",
    "plt.plot(classes_modified, sensitivity_radioml, marker='>', color = '#FF5722')\n",
    "plt.yticks(numpy.arange(-8,30, 2), ticks)\n",
    "plt.xticks(classes, rotation=50)\n",
    "plt.xlabel('Modulation')\n",
    "plt.ylabel('SNR (dB)')\n",
    "plt.grid(color = \"grey\", linewidth = \"0.8\", linestyle = \"--\")\n",
    "plt.legend([\"LSTM framework: OTA and synthetic\", \"RadioML authors: synthetic\"])\n",
    "plt.savefig(output_path + 'sensitivity_radioml.png')\n",
    "#plt.show()"
   ],
   "metadata": {
    "collapsed": false,
    "pycharm": {
     "name": "#%%\n"
    }
   }
  }
 ],
 "metadata": {
  "kernelspec": {
   "display_name": "Python 3",
   "language": "python",
   "name": "python3"
  },
  "language_info": {
   "codemirror_mode": {
    "name": "ipython",
    "version": 2
   },
   "file_extension": ".py",
   "mimetype": "text/x-python",
   "name": "python",
   "nbconvert_exporter": "python",
   "pygments_lexer": "ipython2",
   "version": "2.7.6"
  }
 },
 "nbformat": 4,
 "nbformat_minor": 0
}